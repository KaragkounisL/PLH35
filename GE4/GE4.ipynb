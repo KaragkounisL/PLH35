{
 "cells": [
  {
   "cell_type": "markdown",
   "id": "polar-shell",
   "metadata": {},
   "source": [
    "## Programming Work"
   ]
  },
  {
   "cell_type": "code",
   "execution_count": 19,
   "id": "collect-choir",
   "metadata": {},
   "outputs": [],
   "source": [
    "#Imports\n",
    "import pandas as pd\n",
    "import numpy as np\n",
    "from tqdm.notebook import tqdm"
   ]
  },
  {
   "cell_type": "code",
   "execution_count": 20,
   "id": "assured-neighborhood",
   "metadata": {},
   "outputs": [],
   "source": [
    "#Loading Data\n",
    "dga_data = pd.read_csv('dga.csv', sep=';')\n",
    "dns_data = pd.read_csv('domains.csv', sep=';')"
   ]
  },
  {
   "cell_type": "code",
   "execution_count": 21,
   "id": "manufactured-monitor",
   "metadata": {},
   "outputs": [
    {
     "data": {
      "text/html": [
       "<div>\n",
       "<style scoped>\n",
       "    .dataframe tbody tr th:only-of-type {\n",
       "        vertical-align: middle;\n",
       "    }\n",
       "\n",
       "    .dataframe tbody tr th {\n",
       "        vertical-align: top;\n",
       "    }\n",
       "\n",
       "    .dataframe thead th {\n",
       "        text-align: right;\n",
       "    }\n",
       "</style>\n",
       "<table border=\"1\" class=\"dataframe\">\n",
       "  <thead>\n",
       "    <tr style=\"text-align: right;\">\n",
       "      <th></th>\n",
       "      <th>Family</th>\n",
       "      <th>Domain</th>\n",
       "    </tr>\n",
       "  </thead>\n",
       "  <tbody>\n",
       "    <tr>\n",
       "      <th>0</th>\n",
       "      <td>nymaim</td>\n",
       "      <td>vcrjdothtrh.net</td>\n",
       "    </tr>\n",
       "    <tr>\n",
       "      <th>1</th>\n",
       "      <td>nymaim</td>\n",
       "      <td>kvkriojtul.net</td>\n",
       "    </tr>\n",
       "    <tr>\n",
       "      <th>2</th>\n",
       "      <td>nymaim</td>\n",
       "      <td>astbynvq.info</td>\n",
       "    </tr>\n",
       "    <tr>\n",
       "      <th>3</th>\n",
       "      <td>nymaim</td>\n",
       "      <td>nppahcms.org</td>\n",
       "    </tr>\n",
       "    <tr>\n",
       "      <th>4</th>\n",
       "      <td>nymaim</td>\n",
       "      <td>gugbnrvck.com</td>\n",
       "    </tr>\n",
       "  </tbody>\n",
       "</table>\n",
       "</div>"
      ],
      "text/plain": [
       "   Family           Domain\n",
       "0  nymaim  vcrjdothtrh.net\n",
       "1  nymaim   kvkriojtul.net\n",
       "2  nymaim    astbynvq.info\n",
       "3  nymaim     nppahcms.org\n",
       "4  nymaim    gugbnrvck.com"
      ]
     },
     "execution_count": 21,
     "metadata": {},
     "output_type": "execute_result"
    }
   ],
   "source": [
    "#Netlab 360 Data List\n",
    "dga_data.head()"
   ]
  },
  {
   "cell_type": "code",
   "execution_count": 22,
   "id": "arabic-thong",
   "metadata": {},
   "outputs": [
    {
     "data": {
      "text/html": [
       "<div>\n",
       "<style scoped>\n",
       "    .dataframe tbody tr th:only-of-type {\n",
       "        vertical-align: middle;\n",
       "    }\n",
       "\n",
       "    .dataframe tbody tr th {\n",
       "        vertical-align: top;\n",
       "    }\n",
       "\n",
       "    .dataframe thead th {\n",
       "        text-align: right;\n",
       "    }\n",
       "</style>\n",
       "<table border=\"1\" class=\"dataframe\">\n",
       "  <thead>\n",
       "    <tr style=\"text-align: right;\">\n",
       "      <th></th>\n",
       "      <th>Family</th>\n",
       "      <th>Domain</th>\n",
       "    </tr>\n",
       "  </thead>\n",
       "  <tbody>\n",
       "    <tr>\n",
       "      <th>0</th>\n",
       "      <td>NaN</td>\n",
       "      <td>anidgwelnidmzueo.ru</td>\n",
       "    </tr>\n",
       "    <tr>\n",
       "      <th>1</th>\n",
       "      <td>NaN</td>\n",
       "      <td>aopltfxjzsppylfh.ru</td>\n",
       "    </tr>\n",
       "    <tr>\n",
       "      <th>2</th>\n",
       "      <td>NaN</td>\n",
       "      <td>auvqjghelyqwtfsu.ru</td>\n",
       "    </tr>\n",
       "    <tr>\n",
       "      <th>3</th>\n",
       "      <td>NaN</td>\n",
       "      <td>axwiyyfbraskytvs.ru</td>\n",
       "    </tr>\n",
       "    <tr>\n",
       "      <th>4</th>\n",
       "      <td>NaN</td>\n",
       "      <td>aygrpumrlmymcwkh.ru</td>\n",
       "    </tr>\n",
       "  </tbody>\n",
       "</table>\n",
       "</div>"
      ],
      "text/plain": [
       "   Family               Domain\n",
       "0     NaN  anidgwelnidmzueo.ru\n",
       "1     NaN  aopltfxjzsppylfh.ru\n",
       "2     NaN  auvqjghelyqwtfsu.ru\n",
       "3     NaN  axwiyyfbraskytvs.ru\n",
       "4     NaN  aygrpumrlmymcwkh.ru"
      ]
     },
     "execution_count": 22,
     "metadata": {},
     "output_type": "execute_result"
    }
   ],
   "source": [
    "#Assignment Data\n",
    "dns_data.head()"
   ]
  },
  {
   "cell_type": "code",
   "execution_count": 23,
   "id": "union-provider",
   "metadata": {},
   "outputs": [
    {
     "data": {
      "text/html": [
       "<div>\n",
       "<style scoped>\n",
       "    .dataframe tbody tr th:only-of-type {\n",
       "        vertical-align: middle;\n",
       "    }\n",
       "\n",
       "    .dataframe tbody tr th {\n",
       "        vertical-align: top;\n",
       "    }\n",
       "\n",
       "    .dataframe thead th {\n",
       "        text-align: right;\n",
       "    }\n",
       "</style>\n",
       "<table border=\"1\" class=\"dataframe\">\n",
       "  <thead>\n",
       "    <tr style=\"text-align: right;\">\n",
       "      <th></th>\n",
       "      <th>Family</th>\n",
       "      <th>Domain</th>\n",
       "      <th>Match</th>\n",
       "    </tr>\n",
       "  </thead>\n",
       "  <tbody>\n",
       "    <tr>\n",
       "      <th>0</th>\n",
       "      <td></td>\n",
       "      <td>anidgwelnidmzueo.ru</td>\n",
       "      <td>0</td>\n",
       "    </tr>\n",
       "    <tr>\n",
       "      <th>1</th>\n",
       "      <td></td>\n",
       "      <td>aopltfxjzsppylfh.ru</td>\n",
       "      <td>0</td>\n",
       "    </tr>\n",
       "    <tr>\n",
       "      <th>2</th>\n",
       "      <td></td>\n",
       "      <td>auvqjghelyqwtfsu.ru</td>\n",
       "      <td>0</td>\n",
       "    </tr>\n",
       "    <tr>\n",
       "      <th>3</th>\n",
       "      <td></td>\n",
       "      <td>axwiyyfbraskytvs.ru</td>\n",
       "      <td>0</td>\n",
       "    </tr>\n",
       "    <tr>\n",
       "      <th>4</th>\n",
       "      <td></td>\n",
       "      <td>aygrpumrlmymcwkh.ru</td>\n",
       "      <td>0</td>\n",
       "    </tr>\n",
       "  </tbody>\n",
       "</table>\n",
       "</div>"
      ],
      "text/plain": [
       "  Family               Domain  Match\n",
       "0         anidgwelnidmzueo.ru      0\n",
       "1         aopltfxjzsppylfh.ru      0\n",
       "2         auvqjghelyqwtfsu.ru      0\n",
       "3         axwiyyfbraskytvs.ru      0\n",
       "4         aygrpumrlmymcwkh.ru      0"
      ]
     },
     "execution_count": 23,
     "metadata": {},
     "output_type": "execute_result"
    }
   ],
   "source": [
    "#Adding Match column and changing Family data to empty strings\n",
    "dns_data['Match'] = 0\n",
    "dns_data['Family'] = ''\n",
    "dns_data.head()"
   ]
  },
  {
   "cell_type": "code",
   "execution_count": 25,
   "id": "normal-anthony",
   "metadata": {},
   "outputs": [
    {
     "name": "stdout",
     "output_type": "stream",
     "text": [
      "Starting Search Script for matching Domain Names...\n"
     ]
    },
    {
     "data": {
      "application/vnd.jupyter.widget-view+json": {
       "model_id": "d652a038a040445d87a0c231c0494417",
       "version_major": 2,
       "version_minor": 0
      },
      "text/plain": [
       "  0%|          | 0/44 [00:00<?, ?it/s]"
      ]
     },
     "metadata": {},
     "output_type": "display_data"
    },
    {
     "name": "stdout",
     "output_type": "stream",
     "text": [
      "Script Ended\n",
      "Matching Results Found from Netlab 360 Data List:  44 out 44\n"
     ]
    }
   ],
   "source": [
    "dns_dict = dns_data.to_dict(orient='records')\n",
    "dga_dict = dga_data.to_dict(orient='records')\n",
    "print(\"Starting Search Script for matching Domain Names...\")\n",
    "sum = 0\n",
    "for row1 in tqdm(dns_dict):\n",
    "    for row2 in dga_dict:\n",
    "        if row1['Domain'] == row2['Domain']:\n",
    "                row1['Family'] = row2['Family']\n",
    "                row1['Match'] = 1\n",
    "                break\n",
    "print(\"Script Ended\")\n",
    "dns_data = pd.DataFrame.from_dict(dns_dict)\n",
    "for i in range(len(dns_data)):\n",
    "    if dns_data['Match'][i] == 1:\n",
    "        sum += 1\n",
    "print(\"Matching Results Found from Netlab 360 Data List:  %d out %d\" %(sum,len(dns_data)))\n",
    "        "
   ]
  },
  {
   "cell_type": "markdown",
   "id": "regional-declaration",
   "metadata": {},
   "source": [
    "## Results"
   ]
  },
  {
   "cell_type": "code",
   "execution_count": 26,
   "id": "pacific-pregnancy",
   "metadata": {},
   "outputs": [
    {
     "data": {
      "text/html": [
       "<div>\n",
       "<style scoped>\n",
       "    .dataframe tbody tr th:only-of-type {\n",
       "        vertical-align: middle;\n",
       "    }\n",
       "\n",
       "    .dataframe tbody tr th {\n",
       "        vertical-align: top;\n",
       "    }\n",
       "\n",
       "    .dataframe thead th {\n",
       "        text-align: right;\n",
       "    }\n",
       "</style>\n",
       "<table border=\"1\" class=\"dataframe\">\n",
       "  <thead>\n",
       "    <tr style=\"text-align: right;\">\n",
       "      <th></th>\n",
       "      <th>Family</th>\n",
       "      <th>Domain</th>\n",
       "      <th>Match</th>\n",
       "    </tr>\n",
       "  </thead>\n",
       "  <tbody>\n",
       "    <tr>\n",
       "      <th>0</th>\n",
       "      <td>feodo</td>\n",
       "      <td>anidgwelnidmzueo.ru</td>\n",
       "      <td>1</td>\n",
       "    </tr>\n",
       "    <tr>\n",
       "      <th>1</th>\n",
       "      <td>feodo</td>\n",
       "      <td>aopltfxjzsppylfh.ru</td>\n",
       "      <td>1</td>\n",
       "    </tr>\n",
       "    <tr>\n",
       "      <th>2</th>\n",
       "      <td>feodo</td>\n",
       "      <td>auvqjghelyqwtfsu.ru</td>\n",
       "      <td>1</td>\n",
       "    </tr>\n",
       "    <tr>\n",
       "      <th>3</th>\n",
       "      <td>feodo</td>\n",
       "      <td>axwiyyfbraskytvs.ru</td>\n",
       "      <td>1</td>\n",
       "    </tr>\n",
       "    <tr>\n",
       "      <th>4</th>\n",
       "      <td>feodo</td>\n",
       "      <td>aygrpumrlmymcwkh.ru</td>\n",
       "      <td>1</td>\n",
       "    </tr>\n",
       "  </tbody>\n",
       "</table>\n",
       "</div>"
      ],
      "text/plain": [
       "  Family               Domain  Match\n",
       "0  feodo  anidgwelnidmzueo.ru      1\n",
       "1  feodo  aopltfxjzsppylfh.ru      1\n",
       "2  feodo  auvqjghelyqwtfsu.ru      1\n",
       "3  feodo  axwiyyfbraskytvs.ru      1\n",
       "4  feodo  aygrpumrlmymcwkh.ru      1"
      ]
     },
     "execution_count": 26,
     "metadata": {},
     "output_type": "execute_result"
    }
   ],
   "source": [
    "dns_data.head()"
   ]
  },
  {
   "cell_type": "code",
   "execution_count": 27,
   "id": "subjective-muscle",
   "metadata": {},
   "outputs": [
    {
     "data": {
      "text/plain": [
       "feodo    44\n",
       "Name: Family, dtype: int64"
      ]
     },
     "execution_count": 27,
     "metadata": {},
     "output_type": "execute_result"
    }
   ],
   "source": [
    "dns_data['Family'].value_counts()"
   ]
  },
  {
   "cell_type": "code",
   "execution_count": 28,
   "id": "accurate-suspension",
   "metadata": {},
   "outputs": [
    {
     "data": {
      "text/plain": [
       "1    44\n",
       "Name: Match, dtype: int64"
      ]
     },
     "execution_count": 28,
     "metadata": {},
     "output_type": "execute_result"
    }
   ],
   "source": [
    "dns_data['Match'].value_counts()"
   ]
  },
  {
   "cell_type": "markdown",
   "id": "complete-logistics",
   "metadata": {},
   "source": [
    " We can see that 44 out 44 domains from our data was found in the [Netlab 360 Data List](https://data.netlab.360.com/feeds/dga/dga.txt) and every one of them is classified as **feodo** dga family "
   ]
  }
 ],
 "metadata": {
  "kernelspec": {
   "display_name": "Python 3 (ipykernel)",
   "language": "python",
   "name": "python3"
  },
  "language_info": {
   "codemirror_mode": {
    "name": "ipython",
    "version": 3
   },
   "file_extension": ".py",
   "mimetype": "text/x-python",
   "name": "python",
   "nbconvert_exporter": "python",
   "pygments_lexer": "ipython3",
   "version": "3.9.7"
  }
 },
 "nbformat": 4,
 "nbformat_minor": 5
}
