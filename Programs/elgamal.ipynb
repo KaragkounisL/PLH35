{
 "cells": [
  {
   "cell_type": "code",
   "execution_count": 1,
   "metadata": {},
   "outputs": [],
   "source": [
    "# Imports\n",
    "import math"
   ]
  },
  {
   "cell_type": "code",
   "execution_count": 4,
   "metadata": {},
   "outputs": [],
   "source": [
    "# Selecting p prime number and a generator a (a generator of the field Zp)\n",
    "p = 71\n",
    "a = 7"
   ]
  },
  {
   "cell_type": "code",
   "execution_count": 40,
   "metadata": {},
   "outputs": [],
   "source": [
    "# Select random number 1 <= k <= p-1, in book its S_A\n",
    "k = 13"
   ]
  },
  {
   "cell_type": "code",
   "execution_count": 41,
   "metadata": {},
   "outputs": [
    {
     "name": "stdout",
     "output_type": "stream",
     "text": [
      "Public key: y = 28\n"
     ]
    }
   ],
   "source": [
    "# Calculate public key: y = a^k mod p (this is published)\n",
    "y = pow(a, k) % p\n",
    "print(\"Public key: y =\", y)"
   ]
  },
  {
   "cell_type": "code",
   "execution_count": 42,
   "metadata": {},
   "outputs": [],
   "source": [
    "# Encryption\n",
    "# Assuming that user B wants to send message M to user A\n",
    "# First he selects random number 1 <= r <= p-1\n",
    "M = 47\n",
    "r = 3"
   ]
  },
  {
   "cell_type": "code",
   "execution_count": 43,
   "metadata": {},
   "outputs": [
    {
     "name": "stdout",
     "output_type": "stream",
     "text": [
      "Cryptographic key: K = 13\n"
     ]
    }
   ],
   "source": [
    "# Then calculates the cryptographic key: K = y^r mod p\n",
    "key = pow(y, r) % p\n",
    "print(\"Cryptographic key: K =\", key)"
   ]
  },
  {
   "cell_type": "code",
   "execution_count": 44,
   "metadata": {},
   "outputs": [
    {
     "name": "stdout",
     "output_type": "stream",
     "text": [
      "Encrypted message: C1 = 59 , C2 = 43\n"
     ]
    }
   ],
   "source": [
    "# Then he encrypts the message: C1 = a^r mod p, C2 = M*K mod p \n",
    "c1 = pow(a, r, p)\n",
    "c2 = (M * key) % p\n",
    "print(\"Encrypted message: C1 =\", c1, \", C2 =\", c2)"
   ]
  },
  {
   "cell_type": "code",
   "execution_count": 45,
   "metadata": {},
   "outputs": [
    {
     "name": "stdout",
     "output_type": "stream",
     "text": [
      "Recovered cryptographic key: K = 13\n"
     ]
    }
   ],
   "source": [
    "# Decryption\n",
    "# User A first recovers the cryptographic key: K = c1^k mod p\n",
    "key_d = pow(c1, k, p)\n",
    "print(\"Recovered cryptographic key: K =\", key_d)   "
   ]
  },
  {
   "cell_type": "code",
   "execution_count": 46,
   "metadata": {},
   "outputs": [
    {
     "name": "stdout",
     "output_type": "stream",
     "text": [
      "Decrypted message: M = 47\n"
     ]
    }
   ],
   "source": [
    "# Then he decrypts the message: m = (c2/K) mod p\n",
    "m = ((c2 % p) * ((key_d**(p-2)) % p)) % p\n",
    "print(\"Decrypted message: M =\", m)"
   ]
  },
  {
   "cell_type": "code",
   "execution_count": null,
   "metadata": {},
   "outputs": [],
   "source": []
  }
 ],
 "metadata": {
  "kernelspec": {
   "display_name": "Python 3.9.12 ('base')",
   "language": "python",
   "name": "python3"
  },
  "language_info": {
   "codemirror_mode": {
    "name": "ipython",
    "version": 3
   },
   "file_extension": ".py",
   "mimetype": "text/x-python",
   "name": "python",
   "nbconvert_exporter": "python",
   "pygments_lexer": "ipython3",
   "version": "3.9.12"
  },
  "orig_nbformat": 4,
  "vscode": {
   "interpreter": {
    "hash": "49cb93f377a7abe7414b7b0f21fb3017538004a126cf690fb524202736b7fb92"
   }
  }
 },
 "nbformat": 4,
 "nbformat_minor": 2
}
