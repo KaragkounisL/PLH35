{
 "cells": [
  {
   "cell_type": "code",
   "execution_count": 54,
   "metadata": {},
   "outputs": [],
   "source": [
    "# Imports\n",
    "import math\n",
    "\n",
    "# concat function\n",
    "def concat(a, b):\n",
    "    return int(f\"{a}{b}\")"
   ]
  },
  {
   "cell_type": "code",
   "execution_count": 34,
   "metadata": {},
   "outputs": [],
   "source": [
    "# Values p and q\n",
    "p = int(11)\n",
    "q = int(13)"
   ]
  },
  {
   "cell_type": "code",
   "execution_count": 35,
   "metadata": {},
   "outputs": [
    {
     "name": "stdout",
     "output_type": "stream",
     "text": [
      "n = 143\n"
     ]
    }
   ],
   "source": [
    "# N value\n",
    "n = p * q\n",
    "print(\"n =\", n)"
   ]
  },
  {
   "cell_type": "code",
   "execution_count": 36,
   "metadata": {},
   "outputs": [
    {
     "name": "stdout",
     "output_type": "stream",
     "text": [
      "phi = 120\n"
     ]
    }
   ],
   "source": [
    "# Phi value\n",
    "phi = (p - 1) * (q - 1)\n",
    "print(\"phi =\", phi)"
   ]
  },
  {
   "cell_type": "code",
   "execution_count": 65,
   "metadata": {},
   "outputs": [
    {
     "name": "stdout",
     "output_type": "stream",
     "text": [
      "e values = [7, 11, 13, 17, 19, 23, 29, 31, 37, 41, 43, 47, 49, 53, 59, 61, 67, 71, 73, 77, 79, 83, 89, 91, 97, 101, 103, 107, 109, 113, 119]\n"
     ]
    }
   ],
   "source": [
    "# Function for finding e\n",
    "def find_e(phi):\n",
    "    e_values = []\n",
    "    for i in range(2, phi):\n",
    "        if math.gcd(i, phi) == 1:\n",
    "            e_values.append(i)\n",
    "    return e_values\n",
    "print (\"e values =\", find_e(phi))"
   ]
  },
  {
   "cell_type": "code",
   "execution_count": 66,
   "metadata": {},
   "outputs": [
    {
     "name": "stdout",
     "output_type": "stream",
     "text": [
      "e = 7\n"
     ]
    }
   ],
   "source": [
    "# Choose e from the list of e values\n",
    "e = 7\n",
    "print(\"e =\", e)    "
   ]
  },
  {
   "cell_type": "code",
   "execution_count": 63,
   "metadata": {},
   "outputs": [
    {
     "name": "stdout",
     "output_type": "stream",
     "text": [
      "d = 103\n"
     ]
    }
   ],
   "source": [
    "# Function for finding d\n",
    "def find_d(e, phi):\n",
    "    d = 1\n",
    "    while ((e * d) % phi != 1):\n",
    "        d += 1\n",
    "    return d\n",
    "print(\"d =\", find_d(e, phi))"
   ]
  },
  {
   "cell_type": "markdown",
   "metadata": {},
   "source": [
    "##### Math for finding $d$ \n",
    "$ d \\equiv e^{-1} (mod \\phi(n)) $\n",
    "\n",
    "Eukleides Algorithm  (example for $e = 7$ and $\\phi(n) = 120$)\n",
    "  \n",
    "| a | b | $a_{i}$ / $b_{i}$ | $a mod b $ | $a mod b = a_{i} - b_{i}$ |\n",
    "| :-: | :-: | :-: | :-: | :-: |\n",
    "| $\\phi(n) = 120$ | $e = 7$ | $17$ | $1$ | $1 = 1\\cdot 120 - 17\\cdot 7$ |\n",
    "| $7$ | $1$ | $7$ | $0$ |  |\n",
    "\n",
    "$gcd(120, 7) = 1 = 1 \\cdot 120 - 17 \\cdot 7$  \n",
    "So $d \\equiv x (mod \\phi(n)) = x (mod (p-1)\\cdot(q-1)) = -17 (mod 120) = 103$  \n",
    "Negative modulo calculation: $-17 (mod 120)  = 120 - 17 (mod 120) = 120 - 17 = 103$"
   ]
  },
  {
   "cell_type": "code",
   "execution_count": 39,
   "metadata": {},
   "outputs": [
    {
     "name": "stdout",
     "output_type": "stream",
     "text": [
      "e = 7\n"
     ]
    }
   ],
   "source": [
    "# Function of finding e if d is known\n",
    "def find_e_d(d, phi):\n",
    "    e = 1\n",
    "    while ((e * d) % phi != 1):\n",
    "        e += 1\n",
    "    return e\n",
    "print(\"e =\", find_e_d(103, phi))"
   ]
  },
  {
   "cell_type": "markdown",
   "metadata": {},
   "source": [
    "##### Math for finding $e$ \n",
    "$ d \\cdot e \\equiv 1 (mod \\phi(n)) $"
   ]
  },
  {
   "cell_type": "code",
   "execution_count": 64,
   "metadata": {},
   "outputs": [
    {
     "name": "stdout",
     "output_type": "stream",
     "text": [
      "encrypted message = [103, 64]\n"
     ]
    }
   ],
   "source": [
    "def encrypt_number(list, e, n):\n",
    "    # Encrypt the number\n",
    "    number = list[0]\n",
    "    for i in range(1, len(list)):\n",
    "        number = concat(number, list[i])   \n",
    "    encrypted_number = pow(number, e, n)\n",
    "    # Return the encrypted number\n",
    "    return encrypted_number\n",
    "\n",
    "def encrypt(message, e, n, block_size):\n",
    "    # Convert the message to a list of numbers\n",
    "    message = list(map(int, list(message)))\n",
    "    # Create an empty list for the encrypted message\n",
    "    encrypted_message = []\n",
    "    # Loop through the message\n",
    "    for i in range(0, len(message), block_size):\n",
    "        # Get the block\n",
    "        block = message[i:i + block_size]\n",
    "        # Encrypt the block\n",
    "        encrypted_block = encrypt_number(block, e, n)\n",
    "        # Add the encrypted block to the encrypted message\n",
    "        encrypted_message.append(encrypted_block)\n",
    "    # Return the encrypted message\n",
    "    return encrypted_message\n",
    "\n",
    "message = \"6425\"\n",
    "block_size = 2    \n",
    "encrypted_message = encrypt(message, e, n, block_size)\n",
    "print(\"encrypted message =\", encrypted_message)"
   ]
  },
  {
   "cell_type": "markdown",
   "metadata": {},
   "source": [
    "Encrypt equation:  $ c \\equiv m^{e} (mod n) $  \n",
    "*Example for message 6425, block = 2, $e = 7$ and $n = 143$*  \n",
    "$64^{7} mod 143 = 103$  \n",
    "$25^{7} mod 143 = 64$    \n",
    "So the encrypted message is $c = 103$  $64$"
   ]
  },
  {
   "cell_type": "code",
   "execution_count": 61,
   "metadata": {},
   "outputs": [
    {
     "name": "stdout",
     "output_type": "stream",
     "text": [
      "decrypted message = [64, 25]\n"
     ]
    }
   ],
   "source": [
    "# decrypt_block function\n",
    "def decrypt_block(encrypted_block, d, n):\n",
    "    # Create an empty list for the decrypted block\n",
    "    decrypted_block = []\n",
    "    # Loop through the encrypted block\n",
    "    for number in encrypted_block:\n",
    "        # Decrypt the number\n",
    "        decrypted_number = pow(number, d, n)\n",
    "        # Add the decrypted number to the decrypted block\n",
    "        decrypted_block.append(decrypted_number)\n",
    "    # Return the decrypted block\n",
    "    return decrypted_block\n",
    "\n",
    "d = find_d(e, phi)\n",
    "decrypted_message  = decrypt_block(encrypted_message, d, n)\n",
    "print(\"decrypted message =\", decrypted_message)    "
   ]
  },
  {
   "cell_type": "markdown",
   "metadata": {},
   "source": [
    "Decrypt equation:  $ m \\equiv c^{d} (mod n) $  \n",
    "*Example for message 10364, block = 1 (since odd number of message characters), $d = 103$ and $n = 143$*  \n",
    "$103^{103} mod 143 = 64$  \n",
    "$64^{103} mod 143 = 25$    \n",
    "So the decrypted message is $m = 64$  $25$"
   ]
  }
 ],
 "metadata": {
  "interpreter": {
   "hash": "49cb93f377a7abe7414b7b0f21fb3017538004a126cf690fb524202736b7fb92"
  },
  "kernelspec": {
   "display_name": "Python 3.9.7 ('base')",
   "language": "python",
   "name": "python3"
  },
  "language_info": {
   "codemirror_mode": {
    "name": "ipython",
    "version": 3
   },
   "file_extension": ".py",
   "mimetype": "text/x-python",
   "name": "python",
   "nbconvert_exporter": "python",
   "pygments_lexer": "ipython3",
   "version": "3.9.12"
  },
  "orig_nbformat": 4
 },
 "nbformat": 4,
 "nbformat_minor": 2
}
